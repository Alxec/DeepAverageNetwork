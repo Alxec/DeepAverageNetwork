{
 "cells": [
  {
   "cell_type": "code",
   "execution_count": 169,
   "metadata": {
    "ExecuteTime": {
     "end_time": "2021-12-21T15:57:39.480964Z",
     "start_time": "2021-12-21T15:57:39.473287Z"
    }
   },
   "outputs": [],
   "source": [
    "from typing import Dict, List\n",
    "\n",
    "import matplotlib.pyplot as plt\n",
    "import numpy as np\n",
    "import pandas as pd\n",
    "import seaborn as sns\n",
    "import torch\n",
    "import gzip \n",
    "\n",
    "from datasets import load_dataset\n",
    "from nltk.tokenize import ToktokTokenizer\n",
    "from sklearn.metrics import f1_score\n",
    "from torch import nn\n",
    "from torch.utils.data import DataLoader\n",
    "from tqdm.notebook import tqdm\n",
    "from collections import Counter\n",
    "from IPython.display import clear_output"
   ]
  },
  {
   "cell_type": "markdown",
   "metadata": {},
   "source": [
    "# Deep Average Network для определения сентимента "
   ]
  },
  {
   "cell_type": "markdown",
   "metadata": {},
   "source": [
    "В этой домашке мы будет классифицировать твиты на 3 тональности.  \n",
    "Вы будете использовать предобученные эмбеддинги слов, так что для начала обязательно нужно посмотреть [туториал по их использованию](https://github.com/BobaZooba/DeepNLP/blob/master/Tutorials/Word%20vectors%20%26%20Data%20Loading.ipynb).\n",
    "\n",
    "Наши классы:  \n",
    "\n",
    "Индекс | Sentiment  \n",
    "-- | --  \n",
    "0 | negative  \n",
    "1 | neutral  \n",
    "2 | positive  "
   ]
  },
  {
   "cell_type": "markdown",
   "metadata": {},
   "source": [
    "Вам предстоит реализовать такую модель:\n",
    "![Архитектура модели DAN](https://www.researchgate.net/profile/Shervin-Minaee/publication/340523298/figure/fig1/AS:878252264550411@1586403065555/The-architecture-of-the-Deep-Average-Network-DAN-10.ppm)\n",
    "\n",
    "Что она из себя представляет:\n",
    "- Мы подаем в нее индексы слов\n",
    "- Переводим индексы слов в эмбеддинги\n",
    "- Усредняем эмбеддинги\n",
    "- Пропускаем усредненные эмбеддинги через `Multilayer Perceptron`\n",
    "\n",
    "В этой домашке вам предстоит:\n",
    "- Перевести тексты в матрицы с индексами токенов\n",
    "- Реализовать модель\n",
    "- Обучить ее\n",
    "- Понять хорошо ли вы это сделали\n",
    "\n",
    "Это очень важная модель, потому что она очень простая и показывает достаточно высокие метрики. В дальнейшем на работе советую использовать такую модель как бейзлайн. И в качестве эмбеддингов слов взять эмбеддинги от берта/роберты/тд."
   ]
  },
  {
   "cell_type": "markdown",
   "metadata": {},
   "source": [
    "## 🤗 Datasets\n",
    "В этом туториале мы будем использовать подготовленные данные из библиотеки [datasets](https://github.com/huggingface/datasets). Мы вряд ли еще будем пользоваться этой библиотекой, так как нам будет важно самим подготавливать данные. Во-первых, для простоты, во-вторых, здесь есть достаточно неплохие практики. [Здесь](https://huggingface.co/datasets) вы сможете найти достаточно большое количество различных датасетов. Возможно, когда-нибудь они вам пригодятся."
   ]
  },
  {
   "cell_type": "markdown",
   "metadata": {},
   "source": [
    "## Загрузите эмбеддинги слов\n",
    "Реализуйте функцию по загрузке эмбеддингов из файла. Она должна отдавать словарь слов и `np.array`\n",
    "Формат словаря:\n",
    "```python\n",
    "{\n",
    "    'aabra': 0,\n",
    "    ...,\n",
    "    'mom': 6546,\n",
    "    ...\n",
    "    'xyz': 100355\n",
    "}\n",
    "```\n",
    "Формат матрицы эмбеддингов:\n",
    "```python\n",
    "array([[0.44442278, 0.28644582, 0.04357426, ..., 0.9425766 , 0.02024289,\n",
    "        0.88456545],\n",
    "       [0.77599317, 0.35188237, 0.54801261, ..., 0.91134102, 0.88599103,\n",
    "        0.88068835],\n",
    "       [0.68071886, 0.29352313, 0.95952505, ..., 0.19127958, 0.97723054,\n",
    "        0.36294011],\n",
    "       ...,\n",
    "       [0.03589378, 0.85429694, 0.33437761, ..., 0.39784873, 0.80368014,\n",
    "        0.76368042],\n",
    "       [0.01498725, 0.78155695, 0.80372969, ..., 0.82051826, 0.42314861,\n",
    "        0.18655465],\n",
    "       [0.69263802, 0.82090775, 0.27150426, ..., 0.86582747, 0.40896573,\n",
    "        0.33423976]])\n",
    "```\n",
    "\n",
    "Количество строк в матрице эмбеддингов должно совпадать с размером словаря, то есть для каждого токена должен быть свой эмбеддинг. По параметру `num_tokens` должно брать не более указано в этом параметре количество токенов в словарь и матрицу эмбеддингов."
   ]
  },
  {
   "cell_type": "code",
   "execution_count": 82,
   "metadata": {
    "ExecuteTime": {
     "end_time": "2021-12-21T14:49:09.148632Z",
     "start_time": "2021-12-21T14:49:09.139616Z"
    }
   },
   "outputs": [],
   "source": [
    "def load_embeddings(file_path, pad_token='PAD', unk_token='UNK', max_words=100_000, verbose=True):\n",
    "    \"\"\"\n",
    "    \n",
    "    \"\"\"\n",
    "    \n",
    "    vocab = dict()\n",
    "    embeddings = list()\n",
    "\n",
    "    with gzip.open(file_path,'rt', encoding=\"utf8\") as file_object:\n",
    "\n",
    "        vocab_size, embedding_dim = file_object.readline().strip().split()\n",
    "\n",
    "        vocab_size = int(vocab_size)\n",
    "        embedding_dim = int(embedding_dim)\n",
    "\n",
    "        # в файле 1 000 000 слов с векторами, давайте ограничим для простоты этот словарь\n",
    "        max_words = vocab_size if max_words <= 0 else max_words\n",
    "\n",
    "        # добавим пад токен и эмбеддинг в нашу матрицу эмбеддингов и словарь\n",
    "        vocab[pad_token] = 0\n",
    "        pad_emb = np.zeros(embedding_dim)\n",
    "        pad_emb[:] = np.nan # заполняем эмбеддинг NaN'ами, чтобы потом усреднять текст без них\n",
    "        embeddings.append(pad_emb)\n",
    "\n",
    "        # добавим унк токен и эмбеддинг в нашу матрицу эмбеддингов и словарь\n",
    "        vocab[unk_token] = 1\n",
    "        embeddings.append(np.ones(embedding_dim))\n",
    "\n",
    "        progress_bar = tqdm(total=max_words, disable=not verbose, desc='Reading embeddings file')\n",
    "\n",
    "        for line in file_object:\n",
    "            parts = line.strip().split()\n",
    "\n",
    "            token = ' '.join(parts[:-embedding_dim]).lower()\n",
    "\n",
    "            if token in vocab:\n",
    "                continue\n",
    "\n",
    "            word_vector = np.array(list(map(float, parts[-embedding_dim:])))\n",
    "\n",
    "            vocab[token] = len(vocab)\n",
    "            embeddings.append(word_vector)\n",
    "\n",
    "            progress_bar.update()\n",
    "\n",
    "            if len(vocab) == max_words:\n",
    "                break\n",
    "\n",
    "        progress_bar.close()\n",
    "\n",
    "    embeddings = np.stack(embeddings)\n",
    "    \n",
    "    assert(len(vocab) == embeddings.shape[0])\n",
    "    \n",
    "    return vocab, embeddings"
   ]
  },
  {
   "cell_type": "code",
   "execution_count": null,
   "metadata": {},
   "outputs": [],
   "source": [
    "# Загружаем эмбеддинги\n",
    "# !wget  https://dl.fbaipublicfiles.com/fasttext/vectors-crawl/cc.en.300.vec.gz"
   ]
  },
  {
   "cell_type": "code",
   "execution_count": 83,
   "metadata": {
    "ExecuteTime": {
     "end_time": "2021-12-21T14:49:24.241343Z",
     "start_time": "2021-12-21T14:49:12.800220Z"
    }
   },
   "outputs": [
    {
     "data": {
      "application/vnd.jupyter.widget-view+json": {
       "model_id": "ed7256de04f64e2d85285fcaaf94a08d",
       "version_major": 2,
       "version_minor": 0
      },
      "text/plain": [
       "Reading embeddings file:   0%|          | 0/100000 [00:00<?, ?it/s]"
      ]
     },
     "metadata": {},
     "output_type": "display_data"
    }
   ],
   "source": [
    "vocab, embeddings = load_embeddings('cc.en.300.vec.gz', max_words=100_000)"
   ]
  },
  {
   "cell_type": "markdown",
   "metadata": {},
   "source": [
    "## Загружаем данные из библиотеки\n",
    "Мы сразу получим `torch.utils.data.Dataset`, который сможем передать в `torch.utils.data.DataLoader`"
   ]
  },
  {
   "cell_type": "code",
   "execution_count": 4,
   "metadata": {
    "ExecuteTime": {
     "end_time": "2021-12-21T09:37:53.078898Z",
     "start_time": "2021-12-21T09:37:48.485361Z"
    }
   },
   "outputs": [
    {
     "name": "stderr",
     "output_type": "stream",
     "text": [
      "Reusing dataset tweet_eval (C:\\Users\\Audiodrome\\.cache\\huggingface\\datasets\\tweet_eval\\sentiment\\1.1.0\\12aee5282b8784f3e95459466db4cdf45c6bf49719c25cdb0743d71ed0410343)\n",
      "Reusing dataset tweet_eval (C:\\Users\\Audiodrome\\.cache\\huggingface\\datasets\\tweet_eval\\sentiment\\1.1.0\\12aee5282b8784f3e95459466db4cdf45c6bf49719c25cdb0743d71ed0410343)\n",
      "Reusing dataset tweet_eval (C:\\Users\\Audiodrome\\.cache\\huggingface\\datasets\\tweet_eval\\sentiment\\1.1.0\\12aee5282b8784f3e95459466db4cdf45c6bf49719c25cdb0743d71ed0410343)\n"
     ]
    }
   ],
   "source": [
    "dataset_path = \"tweet_eval\"\n",
    "dataset_name = \"sentiment\"\n",
    "\n",
    "train_dataset = load_dataset(path=dataset_path, name=dataset_name, split=\"train\")\n",
    "valid_dataset = load_dataset(path=dataset_path, name=dataset_name, split=\"validation\")\n",
    "test_dataset = load_dataset(path=dataset_path, name=dataset_name, split=\"test\")"
   ]
  },
  {
   "cell_type": "markdown",
   "metadata": {},
   "source": [
    "## `torch.utils.data.DataLoader`"
   ]
  },
  {
   "cell_type": "code",
   "execution_count": 5,
   "metadata": {
    "ExecuteTime": {
     "end_time": "2021-12-21T09:38:13.704023Z",
     "start_time": "2021-12-21T09:38:13.681640Z"
    }
   },
   "outputs": [],
   "source": [
    "train_loader = DataLoader(train_dataset, batch_size=2, shuffle=True)\n",
    "valid_loader = DataLoader(valid_dataset, batch_size=2, shuffle=False)\n",
    "test_loader = DataLoader(test_dataset, batch_size=2, shuffle=False)"
   ]
  },
  {
   "cell_type": "markdown",
   "metadata": {},
   "source": [
    "## Посмотрим что отдает нам `Loader`\n",
    "Это батч формата:\n",
    "```python\n",
    "batch = {\n",
    "    \"text\": [\n",
    "        \"text1\",\n",
    "        \"text2\",\n",
    "        ...,\n",
    "        \"textn\"\n",
    "    ],\n",
    "    \"label\": tensor([\n",
    "        1,\n",
    "        1,\n",
    "        ...,\n",
    "        0\n",
    "    ])\n",
    "}\n",
    "```\n",
    "То есть у нас есть словарь с двумя ключами `text` и `label`, где хранится n примеров. То есть для 5-го примера в батче текст будет храниться в `batch[\"text\"][5]`, а индекс класса будет храниться в `batch[\"label\"][5]`."
   ]
  },
  {
   "cell_type": "code",
   "execution_count": 6,
   "metadata": {
    "ExecuteTime": {
     "end_time": "2021-12-21T09:38:24.297986Z",
     "start_time": "2021-12-21T09:38:24.187689Z"
    }
   },
   "outputs": [
    {
     "data": {
      "text/plain": [
       "{'label': tensor([1, 1]),\n",
       " 'text': ['\"Pearl Jam\\'s Jeff Aments new project RNDM, here\\'s the first single Modern Times, album \\'Acts out Oct 26th @user',\n",
       "  \"Who's in Milan in February? You won't want to miss this! #Milano2016\"]}"
      ]
     },
     "execution_count": 6,
     "metadata": {},
     "output_type": "execute_result"
    }
   ],
   "source": [
    "for batch in train_loader:\n",
    "    break\n",
    "\n",
    "batch"
   ]
  },
  {
   "cell_type": "markdown",
   "metadata": {},
   "source": [
    "## Collate\n",
    "Сейчас перед нами стоит проблема: мы получаем тексты в виде строк, а нам нужны тензоры (матрицы) с индексами токенов, к тому же нам нужно западить последовательности токенов, чтобы все сложить в торчовую матрицу. Мы можем сделать это двумя способами:\n",
    "- Достать из `train/valid/test_dataset` данные и написать свой `Dataset`, где внутри будет токенизировать текст, токены будут переводиться в индексы и затем последовательность будет падиться до нужной длины\n",
    "- Сделать функцию, которая бы дополнительно обрабатывали наши батчи. Она вставляется в `DataLoader(collate_fn=<ВАША_ФУНКЦИЯ>)`"
   ]
  },
  {
   "cell_type": "markdown",
   "metadata": {},
   "source": [
    "## Если вы хотите сделать свой `Dataset`\n",
    "То вы можете достать данные таким образом."
   ]
  },
  {
   "cell_type": "code",
   "execution_count": 6,
   "metadata": {},
   "outputs": [
    {
     "data": {
      "text/plain": [
       "(45615, 45615)"
      ]
     },
     "execution_count": 6,
     "metadata": {},
     "output_type": "execute_result"
    }
   ],
   "source": [
    "len(train_dataset[\"text\"]), len(train_dataset[\"label\"])"
   ]
  },
  {
   "cell_type": "code",
   "execution_count": 7,
   "metadata": {},
   "outputs": [
    {
     "data": {
      "text/plain": [
       "['\"QT @user In the original draft of the 7th book, Remus Lupin survived the Battle of Hogwarts. #HappyBirthdayRemusLupin\"',\n",
       " '\"Ben Smith / Smith (concussion) remains out of the lineup Thursday, Curtis #NHL #SJ\"']"
      ]
     },
     "execution_count": 7,
     "metadata": {},
     "output_type": "execute_result"
    }
   ],
   "source": [
    "train_dataset[\"text\"][:2]"
   ]
  },
  {
   "cell_type": "code",
   "execution_count": 8,
   "metadata": {},
   "outputs": [
    {
     "data": {
      "text/plain": [
       "[2, 1]"
      ]
     },
     "execution_count": 8,
     "metadata": {},
     "output_type": "execute_result"
    }
   ],
   "source": [
    "train_dataset[\"label\"][:2]"
   ]
  },
  {
   "cell_type": "markdown",
   "metadata": {},
   "source": [
    "## Если вы хотите сделать `collate_fn`"
   ]
  },
  {
   "cell_type": "markdown",
   "metadata": {},
   "source": [
    "### Давайте посмотрим что вообще происходит внутри этого метода\n",
    "Для этого сделаем функцию `empty_collate`, которая принимает на вход батч и отдает его, ничего с ним не делая"
   ]
  },
  {
   "cell_type": "code",
   "execution_count": 8,
   "metadata": {
    "ExecuteTime": {
     "end_time": "2021-10-26T15:31:09.217950Z",
     "start_time": "2021-10-26T15:31:09.215010Z"
    }
   },
   "outputs": [],
   "source": [
    "def empty_collate(batch):\n",
    "    return batch"
   ]
  },
  {
   "cell_type": "code",
   "execution_count": 9,
   "metadata": {
    "ExecuteTime": {
     "end_time": "2021-10-26T15:31:13.099602Z",
     "start_time": "2021-10-26T15:31:13.084564Z"
    }
   },
   "outputs": [],
   "source": [
    "train_loader = DataLoader(train_dataset, batch_size=2, shuffle=True, collate_fn=empty_collate)\n",
    "valid_loader = DataLoader(valid_dataset, batch_size=2, shuffle=False, collate_fn=empty_collate)\n",
    "test_loader = DataLoader(test_dataset, batch_size=2, shuffle=False, collate_fn=empty_collate)"
   ]
  },
  {
   "cell_type": "code",
   "execution_count": 10,
   "metadata": {
    "ExecuteTime": {
     "end_time": "2021-10-26T15:31:15.188322Z",
     "start_time": "2021-10-26T15:31:15.170321Z"
    }
   },
   "outputs": [
    {
     "data": {
      "text/plain": [
       "[{'label': 1,\n",
       "  'text': 'Grateful Dead plays The Beatles   Though it struck me that the latest gens may not know...'},\n",
       " {'label': 2,\n",
       "  'text': '@user I am a big fan, and I would love to 1v1 you on AW on PS4. I am on the 25th Prestige( 10th Master Prestige) And I am pretty skilled.\"'}]"
      ]
     },
     "execution_count": 10,
     "metadata": {},
     "output_type": "execute_result"
    }
   ],
   "source": [
    "for batch in train_loader:\n",
    "    break\n",
    "\n",
    "batch"
   ]
  },
  {
   "cell_type": "markdown",
   "metadata": {},
   "source": [
    "## Формат батча\n",
    "```python\n",
    "batch = [\n",
    "    {\n",
    "        \"text\": \"text1\",\n",
    "        \"label\": 0\n",
    "    }, \n",
    "    {\n",
    "        \"text\": \"text2\",\n",
    "        \"label\": 1\n",
    "    },\n",
    "    ...,\n",
    "    {\n",
    "        \"text\": \"textn\",\n",
    "        \"label\": 1\n",
    "    }\n",
    "]\n",
    "```\n",
    "То есть теперь у нас есть список, где каждый элемент — это словарь со значениями `text` и `label`.  \n",
    "\n",
    "Вы можете сделать функцию или класс с методом `collate`. Этот способ решения домашки предодчтительней, так как использовать `collate` очень хорошая практика.\n",
    "\n",
    "Что я предлагаю:\n",
    "- Сделайте класс `Tokenizer`"
   ]
  },
  {
   "cell_type": "code",
   "execution_count": 84,
   "metadata": {
    "ExecuteTime": {
     "end_time": "2021-12-21T14:50:34.254868Z",
     "start_time": "2021-12-21T14:50:34.240818Z"
    }
   },
   "outputs": [],
   "source": [
    "class Tokenizer:\n",
    "    \n",
    "    def __init__(self, base_tokenizer, token2index, pad_token, unk_token, max_length):\n",
    "        \n",
    "        self._base_tokenizer = base_tokenizer  # например ToktokTokenizer()\n",
    "        \n",
    "        self.token2index = token2index  # словарь из load_embeddings()\n",
    "        \n",
    "        self.pad_token = pad_token\n",
    "        self.pad_index = self.token2index[self.pad_token]\n",
    "        \n",
    "        self.unk_token = unk_token\n",
    "        self.unk_index = self.token2index[self.unk_token]\n",
    "        \n",
    "        self.max_length = max_length\n",
    "\n",
    "    def tokenize(self, text):\n",
    "        \"\"\"\n",
    "        В этом методе нужно разделить строку текста на токены\n",
    "        \"\"\"\n",
    "        return self._base_tokenizer.tokenize(text)\n",
    "    \n",
    "    def indexing(self, tokenized_text):\n",
    "        \"\"\"\n",
    "        В этом методе нужно перевести список токенов в список с индексами этих токенов\n",
    "        \"\"\"\n",
    "        idxs = []\n",
    "        for token in tokenized_text:\n",
    "            if token not in self.token2index:\n",
    "                idxs.append(self.unk_index)\n",
    "            else:\n",
    "                idxs.append(self.token2index[token])\n",
    "        return idxs\n",
    "        \n",
    "    def padding(self, tokens_indices):\n",
    "        \"\"\"\n",
    "        В этом методе нужно сделать длину tokens_indices равной self.max_length\n",
    "        Опционально убрать повторяющиеся unk'и\n",
    "        \"\"\"\n",
    "        padded = []\n",
    "        while len(padded)<self.max_length:\n",
    "            for idx in tokens_indices:\n",
    "                if len(padded)==0:\n",
    "                    padded.append(idx)\n",
    "                elif len(padded)==self.max_length:\n",
    "                    break\n",
    "                elif idx!=1:\n",
    "                    padded.append(idx)\n",
    "                else:\n",
    "                    if padded[-1]!=1:\n",
    "                        padded.append(idx)\n",
    "            if len(padded)==self.max_length:\n",
    "                break\n",
    "            padded.append(self.pad_index)\n",
    "        return padded\n",
    "    \n",
    "    def __call__(self, text):\n",
    "        \"\"\"\n",
    "        В этом методе нужно перевести строку с текстом в вектор с индексами слов нужно размера (self.max_length)\n",
    "        \"\"\"\n",
    "        return torch.tensor(self.padding(self.indexing(self.tokenize(text))))\n",
    "        \n",
    "    def collate(self, batch):\n",
    "        \n",
    "        tokenized_texts = list()\n",
    "        labels = list()\n",
    "        \n",
    "        for sample in batch:\n",
    "            labels.append(sample['label'])\n",
    "            tokenized_texts.append(self(sample['text']))\n",
    "            \n",
    "        tokenized_texts = torch.stack(tokenized_texts)\n",
    "        labels = torch.Tensor(labels)\n",
    "        \n",
    "        return tokenized_texts, labels"
   ]
  },
  {
   "cell_type": "markdown",
   "metadata": {},
   "source": [
    "## Перед реализацией выбранного метода\n",
    "Советую, чтобы в итоге `Loader` отдавал кортеж с двумя тензорами:\n",
    "- `torch.Tensor` с индексами токенов, размерность `(batch_size, sequence_length)`\n",
    "- `torch.Tensor` с индексами таргетов, размерность `(batch_size)`\n",
    "\n",
    "То есть, чтобы было так:\n",
    "```python\n",
    "for x, y in train_loader:\n",
    "    ...\n",
    "\n",
    ">> x\n",
    ">> tensor([[   37,  3889,   470,  ...,     0,     0,     0],\n",
    "           [ 1509,   581,   144,  ...,     0,     0,     0],\n",
    "           [ 1804,   893,  2457,  ...,     0,     0,     0],\n",
    "           ...,\n",
    "           [  170, 39526,  2102,  ...,     0,     0,     0],\n",
    "           [ 1217,   172, 28440,  ...,     0,     0,     0],\n",
    "           [   37,    56,   603,  ...,     0,     0,     0]])\n",
    "\n",
    ">> y\n",
    ">> tensor([1, 2, 2, 2, 1, 1, 1, 1, 2, 1, 1, 2, 2, 1, 1, 1, 1, 1, 0, 1, 2, 0, 0, 1,\n",
    "           0, 2, 1, 1, 0, 1, 2, 0, 2, 1, 2, 1, 1, 1, 2, 1, 1, 0, 1, 1, 1, 0, 1, 0,\n",
    "           1, 0, 2, 2, 2, 1, 1, 2, 2, 2, 1, 2, 0, 1, 0, 2, 1, 2, 2, 1, 0, 0, 2, 2,\n",
    "           2, 1, 2, 0, 2, 2, 0, 2, 0, 1, 1, 1, 2, 2, 2, 1, 1, 1, 1, 2, 1, 0, 2, 2,\n",
    "           2, 1, 1, 1, 1, 1, 2, 2, 2, 2, 1, 1, 2, 1, 1, 0, 1, 1, 1, 2, 2, 1, 2, 1,\n",
    "           2, 1, 1, 2, 2, 1, 1, 2])\n",
    "\n",
    ">> x.shape\n",
    ">> torch.Size([128, 64])\n",
    "\n",
    ">> y.shape\n",
    ">> torch.Size([128])\n",
    "```\n",
    "При условии, что батч сайз равен 128, а максимальная длина последовательности равна 64.\n",
    "\n",
    "## Помните"
   ]
  },
  {
   "cell_type": "markdown",
   "metadata": {},
   "source": [
    "## <Место для реализации>"
   ]
  },
  {
   "cell_type": "code",
   "execution_count": 188,
   "metadata": {
    "ExecuteTime": {
     "end_time": "2021-12-22T10:39:53.410112Z",
     "start_time": "2021-12-22T10:39:44.177061Z"
    }
   },
   "outputs": [
    {
     "data": {
      "application/vnd.jupyter.widget-view+json": {
       "model_id": "428dd93cfb2747e89c61196c1217e648",
       "version_major": 2,
       "version_minor": 0
      },
      "text/plain": [
       "  0%|          | 0/45615 [00:00<?, ?it/s]"
      ]
     },
     "metadata": {},
     "output_type": "display_data"
    },
    {
     "data": {
      "text/plain": [
       "33.0"
      ]
     },
     "execution_count": 188,
     "metadata": {},
     "output_type": "execute_result"
    }
   ],
   "source": [
    "# Определяем max длину текста\n",
    "\n",
    "lengths = [len(ToktokTokenizer().tokenize(sample)) for sample in tqdm(train_dataset[\"text\"])]\n",
    "np.percentile(lengths, 95)"
   ]
  },
  {
   "cell_type": "code",
   "execution_count": 189,
   "metadata": {
    "ExecuteTime": {
     "end_time": "2021-12-22T10:40:11.293014Z",
     "start_time": "2021-12-22T10:40:11.275389Z"
    }
   },
   "outputs": [],
   "source": [
    "wordlim = 32\n",
    "\n",
    "collate_fn = Tokenizer(ToktokTokenizer(), vocab, 'PAD', 'UNK', wordlim).collate\n",
    "\n",
    "batch_size = 512\n",
    "\n",
    "train_loader = DataLoader(train_dataset, batch_size=batch_size, shuffle=True, collate_fn=collate_fn)\n",
    "valid_loader = DataLoader(valid_dataset, batch_size=batch_size, shuffle=False, collate_fn=collate_fn)\n",
    "test_loader = DataLoader(test_dataset, batch_size=batch_size, shuffle=False, collate_fn=collate_fn)"
   ]
  },
  {
   "cell_type": "code",
   "execution_count": 180,
   "metadata": {
    "ExecuteTime": {
     "end_time": "2021-12-22T10:36:31.850279Z",
     "start_time": "2021-12-22T10:36:31.617593Z"
    }
   },
   "outputs": [],
   "source": [
    "for x,y in train_loader:\n",
    "    break"
   ]
  },
  {
   "cell_type": "code",
   "execution_count": 87,
   "metadata": {
    "ExecuteTime": {
     "end_time": "2021-12-21T14:50:53.985381Z",
     "start_time": "2021-12-21T14:50:53.966714Z"
    }
   },
   "outputs": [],
   "source": [
    "assert(isinstance(x, torch.Tensor))\n",
    "assert(len(x.size()) == 2)\n",
    "\n",
    "assert(isinstance(y, torch.Tensor))\n",
    "assert(len(y.size()) == 1)"
   ]
  },
  {
   "cell_type": "markdown",
   "metadata": {},
   "source": [
    "# Реализация DAN\n",
    "\n",
    "На вход модели будут подавать индексы слов\n",
    "\n",
    "Шаги:\n",
    "- Переводим индексы слов в эмбеддинги\n",
    "- Усредняем эмбеддинги\n",
    "- Пропускаем усредненные эмбеддинги через `Multilayer Perceptron`\n",
    "    - Нужно реализовать самому\n",
    "    \n",
    "Дополнительно:\n",
    "- Добавьте `nn.Dropout`, `nn.BatchNorm` по вкусу\n",
    "- Сделайте усреднение с учетом падов\n",
    "- Используйте эмбеддинги от берта/роберты/тд (когда-нибудь про это будет целый туториал, а пока предлагают вам попробовать сделать это самим)"
   ]
  },
  {
   "cell_type": "markdown",
   "metadata": {},
   "source": [
    "# Советы\n",
    "\n",
    "## До обучения\n",
    "- Выберите метрику(ки) качества и расскажите почему она(они)\n",
    "    - Обычно есть основная метрика, по которой принимаем решения какие веса брать и дополнительные, которые нам помогут делать выводы, например, о том все ли хорошо с нашими данными, хорошо ли модель справляется с дисбалансом классов и тд\n",
    "- Эту домашку можно сделать и на `CPU`, но на `GPU` будет сильно быстрее\n",
    "    - Во всех остальных домашках мы будем учить модели на `GPU`\n",
    "    - Рано или поздно вам придется посмотреть этот [туториал](https://www.youtube.com/watch?v=pgk1zGv5lU4)\n",
    "    - Вы можете обучаться на `colab`, это бесплатно\n",
    "\n",
    "## До эпохи\n",
    "- Сделайте списки/словари/другое, чтобы сохранять нужные данные для расчета метрик(и) по всей эпохе для трейна и валидации\n",
    "\n",
    "## Во время эпохи\n",
    "- Используйте [`tqdm`](https://github.com/tqdm/tqdm) как прогресс бар, чтобы понимать как проходит ваше обучение\n",
    "- Логируйте лосс\n",
    "- Логируйте метрику(ки) по батчу\n",
    "- Сохраняйте то, что вам нужно, чтобы посчитать метрик(и) на всю эпоху для трейна и валидации\n",
    "\n",
    "## После эпохи\n",
    "- Посчитайте метрик(и) на всю эпоху для трейна и валидации\n",
    "\n",
    "## После обучения\n",
    "- Провалидируйтесь на тестовом наборе и посмотрите метрики\n",
    "- Постройте [`classification_report`](https://scikit-learn.org/stable/modules/generated/sklearn.metrics.classification_report.html)\n",
    "- Постройте графики:\n",
    "    - [Confusion Matrix](https://scikit-learn.org/stable/modules/model_evaluation.html#confusion-matrix)\n",
    "    - [Опционально] Распределение вероятностей мажоритарного класса (то есть для какого-то примера мы выбираем такой класс и вероятность этого выбора такая-то) на трейне/тесте/валидации\n",
    "        - Если класс был выбран верно и если была ошибка\n",
    "- Подумайте что еще вам будет полезно для того, чтобы ответить на такие вопросы: \n",
    "    - Что в моделе можно улучшить?\n",
    "    - Все ли хорошо с моими данными?\n",
    "    - Все ли хорошо с валидацией?\n",
    "    - Не переобучился ли я?\n",
    "    - Достаточно ли я посмотрел на данные?\n",
    "    - Нужно ли мне улучшить предобработку данных?\n",
    "    - Нужно ли поменять токенизацию или эмбеддинги?\n",
    "    - Нет ли у меня багов в реализации?\n",
    "    - Какие типичные ошибки у моей модели?\n",
    "    - Как я могу их исправить?"
   ]
  },
  {
   "cell_type": "markdown",
   "metadata": {},
   "source": [
    "# Я выбрал метрику F1 weighted\n",
    "Почему я выбрал эту метрику:  \n",
    "Как можно видеть в результате кода ниже, количество данных сильно разнится для разных классов. Т.к. наша модель может научиться предсказывать одни классы лучше других, я посчитал необходимым использовать взвешенную метрику, ведь в таком случае не будет перевеса в сторону классов с большим количеством данных."
   ]
  },
  {
   "cell_type": "code",
   "execution_count": 39,
   "metadata": {
    "ExecuteTime": {
     "end_time": "2021-12-21T12:03:21.217161Z",
     "start_time": "2021-12-21T12:03:19.506418Z"
    }
   },
   "outputs": [
    {
     "data": {
      "text/plain": [
       "Counter({2: 17849, 1: 20673, 0: 7093})"
      ]
     },
     "execution_count": 39,
     "metadata": {},
     "output_type": "execute_result"
    }
   ],
   "source": [
    "train_classes = [data['label'] for data in train_dataset]\n",
    "Counter(train_classes)"
   ]
  },
  {
   "cell_type": "code",
   "execution_count": 157,
   "metadata": {
    "ExecuteTime": {
     "end_time": "2021-12-21T15:33:28.192595Z",
     "start_time": "2021-12-21T15:33:28.177721Z"
    }
   },
   "outputs": [],
   "source": [
    "class DeepAverageNetwork(nn.Module):\n",
    "    \n",
    "    def __init__(self, actv, embs, hidden_unit_nums, output_feature_num, drop):\n",
    "        \n",
    "        super(DeepAverageNetwork, self).__init__()\n",
    "        \n",
    "        self.emb = torch.nn.Embedding.from_pretrained(torch.Tensor(embs))\n",
    "        \n",
    "        self.mlp = nn.Sequential() # сюда добавим все mlp-слои\n",
    "        in_num = self.emb.embedding_dim # инпуты первого слоя\n",
    "        \n",
    "        for i in range(len(hidden_unit_nums)): # создаем одинаковые группы слоев\n",
    "          out_num = hidden_unit_nums[i] # назначаем аутпуты из соответствующего листа\n",
    "          layer = nn.Linear(in_num, out_num) # линейный слой\n",
    "          in_num = out_num # инпуты следующего слоя\n",
    "          self.mlp.add_module('Linear_%d'%i, layer) # добавляем в последовательность\n",
    "\n",
    "          batchnorm = nn.BatchNorm1d(num_features=out_num) # нормализация батча\n",
    "          self.mlp.add_module('Batchnorm_%d'%i, batchnorm) # добавляем в последовательность\n",
    "\n",
    "          actv_layer = eval('nn.%s'%actv) # функция активации\n",
    "          self.mlp.add_module('Activation_%d'%i, actv_layer) # добавляем в последовательность\n",
    "\n",
    "          dropout = nn.Dropout(p=drop[i]) # дропаут\n",
    "          self.mlp.add_module('Dropout_%d'%i, dropout) # добавляем в последовательность\n",
    "\n",
    "        out_layer = nn.Linear(in_num, output_feature_num) # Create final layer\n",
    "        self.mlp.add_module('Output_Linear', out_layer) # добавляем в последовательность\n",
    "\n",
    "    def forward(self, x):\n",
    "        \n",
    "#         x = x.view(-1, self.in_num)\n",
    "        x = self.emb(x)\n",
    "        x_avg = torch.mean(x, dim=1)\n",
    "        logits = self.mlp(x_avg)\n",
    "        return logits"
   ]
  },
  {
   "cell_type": "code",
   "execution_count": 41,
   "metadata": {
    "ExecuteTime": {
     "end_time": "2021-12-21T12:12:46.032966Z",
     "start_time": "2021-12-21T12:12:46.017047Z"
    }
   },
   "outputs": [],
   "source": [
    "# Функция для инициализации весов\n",
    "def init_weights(m):\n",
    "    if isinstance(m, nn.Linear):\n",
    "        torch.nn.init.kaiming_normal_(m.weight, nonlinearity='relu')\n",
    "        m.bias.data.fill_(0)"
   ]
  },
  {
   "cell_type": "code",
   "execution_count": 190,
   "metadata": {
    "ExecuteTime": {
     "end_time": "2021-12-22T10:41:29.955868Z",
     "start_time": "2021-12-22T10:41:29.889141Z"
    }
   },
   "outputs": [
    {
     "data": {
      "text/plain": [
       "DeepAverageNetwork(\n",
       "  (emb): Embedding(100000, 300)\n",
       "  (mlp): Sequential(\n",
       "    (Linear_0): Linear(in_features=300, out_features=500, bias=True)\n",
       "    (Batchnorm_0): BatchNorm1d(500, eps=1e-05, momentum=0.1, affine=True, track_running_stats=True)\n",
       "    (Activation_0): ReLU()\n",
       "    (Dropout_0): Dropout(p=0.3, inplace=False)\n",
       "    (Linear_1): Linear(in_features=500, out_features=250, bias=True)\n",
       "    (Batchnorm_1): BatchNorm1d(250, eps=1e-05, momentum=0.1, affine=True, track_running_stats=True)\n",
       "    (Activation_1): ReLU()\n",
       "    (Dropout_1): Dropout(p=0.2, inplace=False)\n",
       "    (Linear_2): Linear(in_features=250, out_features=300, bias=True)\n",
       "    (Batchnorm_2): BatchNorm1d(300, eps=1e-05, momentum=0.1, affine=True, track_running_stats=True)\n",
       "    (Activation_2): ReLU()\n",
       "    (Dropout_2): Dropout(p=0.3, inplace=False)\n",
       "    (Linear_3): Linear(in_features=300, out_features=150, bias=True)\n",
       "    (Batchnorm_3): BatchNorm1d(150, eps=1e-05, momentum=0.1, affine=True, track_running_stats=True)\n",
       "    (Activation_3): ReLU()\n",
       "    (Dropout_3): Dropout(p=0.2, inplace=False)\n",
       "    (Output_Linear): Linear(in_features=150, out_features=3, bias=True)\n",
       "  )\n",
       ")"
      ]
     },
     "execution_count": 190,
     "metadata": {},
     "output_type": "execute_result"
    }
   ],
   "source": [
    "device = torch.device(\"cuda:0\") if torch.cuda.is_available() else torch.device(\"cpu\")\n",
    "\n",
    "hidden_units = [500, 250, 300, 150] # нейронов в скрытых слоях\n",
    "dropouts = [0.3, 0.2, 0.3, 0.2] # дропаут на этих слоях\n",
    "\n",
    "model = DeepAverageNetwork('ReLU()', embeddings, hidden_units, 3, dropouts)\n",
    "model.apply(init_weights)\n",
    "model.to(device)"
   ]
  },
  {
   "cell_type": "markdown",
   "metadata": {},
   "source": [
    "## Задайте функцию потерь и оптимизатор"
   ]
  },
  {
   "cell_type": "code",
   "execution_count": 192,
   "metadata": {
    "ExecuteTime": {
     "end_time": "2021-12-22T10:42:10.574005Z",
     "start_time": "2021-12-22T10:42:10.568973Z"
    }
   },
   "outputs": [],
   "source": [
    "tokenizer = Tokenizer(ToktokTokenizer(), vocab, 'PAD', 'UNK', wordlim)\n",
    "optimizer = torch.optim.Adam(model.parameters(), lr=1e-3)\n",
    "criterion = nn.CrossEntropyLoss(reduction='none')\n",
    "scheduler = None\n",
    "# scheduler = torch.optim.lr_scheduler.ReduceLROnPlateau(optimizer,\n",
    "#                                                        mode='min',\n",
    "#                                                        factor=0.6,\n",
    "#                                                        patience=0,\n",
    "#                                                        verbose=True)"
   ]
  },
  {
   "cell_type": "markdown",
   "metadata": {},
   "source": [
    "## Сделайте цикл обучения"
   ]
  },
  {
   "cell_type": "code",
   "execution_count": 195,
   "metadata": {
    "ExecuteTime": {
     "end_time": "2021-12-22T10:43:35.430388Z",
     "start_time": "2021-12-22T10:43:35.389019Z"
    }
   },
   "outputs": [],
   "source": [
    "# Вспомогательные функции\n",
    "\n",
    "# Функция для выведения графиков\n",
    "def plot_losses(train_losses, test_losses, train_metrics, test_metrics):\n",
    "    clear_output()\n",
    "    fig, axs = plt.subplots(1, 2, figsize=(13, 4))\n",
    "    axs[0].plot(range(1, len(train_losses) + 1), train_losses, label='train')\n",
    "    axs[0].plot(range(1, len(test_losses) + 1), test_losses, label='test')\n",
    "    axs[0].set_ylabel('loss')\n",
    "\n",
    "    axs[1].plot(range(1, len(train_metrics) + 1), train_metrics, label='train')\n",
    "    axs[1].plot(range(1, len(test_metrics) + 1), test_metrics, label='test')\n",
    "    axs[1].set_ylabel('F1 weighted')\n",
    "\n",
    "    for ax in axs:\n",
    "        ax.grid()\n",
    "        ax.set_xlabel('epoch')\n",
    "        ax.legend()\n",
    "\n",
    "    plt.show()\n",
    "\n",
    "    \n",
    "# Одна эпоха обучения\n",
    "def train_one_epoch(model, train_loader, tokenizer, criterion, optimizer, epoch, num_epochs, device=\"cuda:0\"):\n",
    "    model.train()\n",
    "    running_loss, running_metric = 0.0, 0.0\n",
    "    for texts, labels in tqdm(train_loader, desc=f'Training {epoch+1}/{num_epochs}'):\n",
    "        optimizer.zero_grad() # обнуляем градиенты\n",
    "        \n",
    "        # токенизируем тексты\n",
    "        tokenized = []\n",
    "        for i in range(texts.size()[0]):\n",
    "            tokenized.append(tokenizer(texts[i, :]).unsqueeze(0))\n",
    "        tokenized = torch.cat(tokenized)\n",
    "        \n",
    "        tokenized = tokenized.to(device)\n",
    "        labels = labels.to(device)\n",
    "        \n",
    "        logits = model(tokenized) # форвард пасс\n",
    "        loss = criterion(logits, labels.long()) # считаем лосс\n",
    "        loss.mean().backward() # бэквард пасс\n",
    "        optimizer.step() # обновляем веса\n",
    "        \n",
    "        running_loss += loss.sum() # складываем потери (среднее считается ниже)\n",
    "        running_metric += f1_score(labels, logits.argmax(dim=-1), average='weighted') # складываем метрики\n",
    "    return running_loss, running_metric\n",
    "\n",
    "# Получение предсказаний модели\n",
    "def predict(model, val_loader, criterion, device=\"cuda:0\"):\n",
    "    model.eval()\n",
    "    losses, predicted_classes, true_classes = [], [], []\n",
    "    for texts, labels in tqdm(val_loader, desc=f'Testing'):\n",
    "        \n",
    "        # токенизируем тексты\n",
    "        tokenized = []\n",
    "        for i in range(texts.size()[0]):\n",
    "            tokenized.append(tokenizer(texts[i, :]).unsqueeze(0))\n",
    "        tokenized = torch.cat(tokenized)\n",
    "        \n",
    "        tokenized = tokenized.to(device)\n",
    "        labels = labels.to(device)\n",
    "        \n",
    "        with torch.no_grad():\n",
    "            logits = model(tokenized)\n",
    "            loss = criterion(logits, labels.long())\n",
    "        \n",
    "        losses += [loss]\n",
    "        predicted_classes += [logits.argmax(dim=-1)] \n",
    "        true_classes += [labels]\n",
    "    return torch.cat(losses), torch.cat(predicted_classes).cpu(), torch.cat(true_classes).cpu()\n",
    "\n",
    "\n",
    "# Цикл обучения\n",
    "def train(model, train_loader, val_loader, tokenizer, criterion, optimizer, device=\"cuda:0\", n_epochs=10, scheduler=None):\n",
    "    train_losses, test_losses = [], []\n",
    "    train_metrics, test_metrics = [], []\n",
    "    for epoch in range(n_epochs):\n",
    "        epoch_loss, epoch_metric = train_one_epoch(model,\n",
    "                                                   train_loader,\n",
    "                                                   tokenizer,\n",
    "                                                   criterion,\n",
    "                                                   optimizer,\n",
    "                                                   epoch,\n",
    "                                                   n_epochs,\n",
    "                                                   device)\n",
    "        train_losses += [epoch_loss / len(train_loader.dataset)]\n",
    "        train_metrics += [epoch_metric * batch_size / len(train_loader.dataset)]\n",
    "\n",
    "        all_losses, predicted_labels, true_labels = predict(model,\n",
    "                                                            val_loader,\n",
    "                                                            criterion,\n",
    "                                                            device)\n",
    "        test_losses += [torch.mean(all_losses).item()]\n",
    "        test_metrics += [f1_score(true_labels, predicted_labels, average='weighted')]\n",
    "        \n",
    "        if scheduler:\n",
    "            scheduler.step(test_losses[-1])\n",
    "            \n",
    "        plot_losses(train_losses, test_losses, train_metrics, test_metrics)"
   ]
  },
  {
   "cell_type": "code",
   "execution_count": 196,
   "metadata": {
    "ExecuteTime": {
     "end_time": "2021-12-22T10:56:09.727234Z",
     "start_time": "2021-12-22T10:43:41.594001Z"
    }
   },
   "outputs": [
    {
     "data": {
      "image/png": "[encoded data removed]",
      "text/plain": [
       "<Figure size 936x288 with 2 Axes>"
      ]
     },
     "metadata": {
      "needs_background": "light"
     },
     "output_type": "display_data"
    }
   ],
   "source": [
    "NUM_EPOCHS = 20  # Задайте количество эпох\n",
    "\n",
    "train(model, train_loader, valid_loader, tokenizer, criterion, optimizer, device, NUM_EPOCHS, scheduler)"
   ]
  },
  {
   "cell_type": "code",
   "execution_count": 199,
   "metadata": {
    "ExecuteTime": {
     "end_time": "2021-12-22T10:57:44.358521Z",
     "start_time": "2021-12-22T10:57:43.245327Z"
    }
   },
   "outputs": [
    {
     "data": {
      "application/vnd.jupyter.widget-view+json": {
       "model_id": "83bc0151796244f68a4275d046914a9f",
       "version_major": 2,
       "version_minor": 0
      },
      "text/plain": [
       "Testing:   0%|          | 0/4 [00:00<?, ?it/s]"
      ]
     },
     "metadata": {},
     "output_type": "display_data"
    },
    {
     "data": {
      "text/plain": [
       "0.45722619421467536"
      ]
     },
     "execution_count": 199,
     "metadata": {},
     "output_type": "execute_result"
    }
   ],
   "source": [
    "all_losses, predicted_labels, true_labels = predict(model, test_loader, criterion, device)\n",
    "assert len(predicted_labels) == len(valid_dataset)\n",
    "metric = f1_score(true_labels, predicted_labels, average='weighted')\n",
    "metric"
   ]
  },
  {
   "cell_type": "markdown",
   "metadata": {},
   "source": [
    "# Выводы\n",
    "Напишите небольшой отчет о проделанной работе. Что удалось, в чем не уверены, что делать дальше."
   ]
  },
  {
   "cell_type": "code",
   "execution_count": null,
   "metadata": {},
   "outputs": [],
   "source": []
  }
 ],
 "metadata": {
  "kernelspec": {
   "display_name": "Python 3",
   "language": "python",
   "name": "python3"
  },
  "language_info": {
   "codemirror_mode": {
    "name": "ipython",
    "version": 3
   },
   "file_extension": ".py",
   "mimetype": "text/x-python",
   "name": "python",
   "nbconvert_exporter": "python",
   "pygments_lexer": "ipython3",
   "version": "3.7.6"
  },
  "varInspector": {
   "cols": {
    "lenName": 16,
    "lenType": 16,
    "lenVar": 40
   },
   "kernels_config": {
    "python": {
     "delete_cmd_postfix": "",
     "delete_cmd_prefix": "del ",
     "library": "var_list.py",
     "varRefreshCmd": "print(var_dic_list())"
    },
    "r": {
     "delete_cmd_postfix": ") ",
     "delete_cmd_prefix": "rm(",
     "library": "var_list.r",
     "varRefreshCmd": "cat(var_dic_list()) "
    }
   },
   "position": {
    "height": "506.85px",
    "left": "1166px",
    "right": "20px",
    "top": "120px",
    "width": "350px"
   },
   "types_to_exclude": [
    "module",
    "function",
    "builtin_function_or_method",
    "instance",
    "_Feature"
   ],
   "window_display": false
  }
 },
 "nbformat": 4,
 "nbformat_minor": 5
}
